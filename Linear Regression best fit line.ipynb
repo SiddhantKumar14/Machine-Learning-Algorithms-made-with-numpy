{
 "cells": [
  {
   "cell_type": "code",
   "execution_count": 21,
   "metadata": {},
   "outputs": [],
   "source": [
    "import numpy as np\n",
    "import matplotlib.pyplot as plt\n",
    "from statistics import mean\n",
    "%matplotlib inline"
   ]
  },
  {
   "cell_type": "code",
   "execution_count": 22,
   "metadata": {},
   "outputs": [
    {
     "data": {
      "text/plain": [
       "<matplotlib.collections.PathCollection at 0x7fa62ac7bc88>"
      ]
     },
     "execution_count": 22,
     "metadata": {},
     "output_type": "execute_result"
    },
    {
     "data": {
      "image/png": "[encoded data removed]",
      "text/plain": [
       "<Figure size 432x288 with 1 Axes>"
      ]
     },
     "metadata": {
      "needs_background": "light"
     },
     "output_type": "display_data"
    }
   ],
   "source": [
    "x_arr = np.array([1,2,4,6,7,7,9,2,9,11,15], dtype = np.float64)\n",
    "y_arr = np.array([2,4,6,5,4,13,15,11,10,13,9], dtype = np.float64)\n",
    "plt.scatter(x_arr, y_arr)"
   ]
  },
  {
   "cell_type": "code",
   "execution_count": 23,
   "metadata": {},
   "outputs": [],
   "source": [
    "def best_fit_line(xs, ys):\n",
    "    # m = {(mean_of_x's * mean_of_y's) - mean_of_xy's}/{(mean_of_x's)^2 - (mean_of_x^2)}\n",
    "    m = (mean(xs)*mean(ys) - mean(xs*ys))/(mean(xs)**2 - mean(xs**2))\n",
    "    b = mean(ys) - m*mean(xs)\n",
    "    return m,b"
   ]
  },
  {
   "cell_type": "code",
   "execution_count": 24,
   "metadata": {},
   "outputs": [
    {
     "name": "stdout",
     "output_type": "stream",
     "text": [
      "(0.5338645418326694, 4.820717131474103)\n"
     ]
    }
   ],
   "source": [
    "print(best_fit_line(x_arr, y_arr))\n",
    "slope, c = best_fit_line(x_arr, y_arr)"
   ]
  },
  {
   "cell_type": "code",
   "execution_count": 28,
   "metadata": {},
   "outputs": [
    {
     "data": {
      "image/png": "[encoded data removed]",
      "text/plain": [
       "<Figure size 432x288 with 1 Axes>"
      ]
     },
     "metadata": {
      "needs_background": "light"
     },
     "output_type": "display_data"
    }
   ],
   "source": [
    "reg_line = [(slope*x + c) for x in x_arr]\n",
    "\n",
    "pred_x = 15\n",
    "pred_y = slope*pred_x + c\n",
    "\n",
    "plt.scatter(pred_x, pred_y, color = 'red')\n",
    "plt.scatter(x_arr, y_arr)\n",
    "plt.plot(x_arr, reg_line)\n",
    "plt.show()"
   ]
  },
  {
   "cell_type": "code",
   "execution_count": null,
   "metadata": {},
   "outputs": [],
   "source": []
  }
 ],
 "metadata": {
  "kernelspec": {
   "display_name": "Python 3",
   "language": "python",
   "name": "python3"
  },
  "language_info": {
   "codemirror_mode": {
    "name": "ipython",
    "version": 3
   },
   "file_extension": ".py",
   "mimetype": "text/x-python",
   "name": "python",
   "nbconvert_exporter": "python",
   "pygments_lexer": "ipython3",
   "version": "3.6.8"
  }
 },
 "nbformat": 4,
 "nbformat_minor": 2
}
