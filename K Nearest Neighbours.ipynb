{
 "cells": [
  {
   "cell_type": "code",
   "execution_count": 28,
   "metadata": {},
   "outputs": [
    {
     "data": {
      "image/png": "[encoded data removed]",
      "text/plain": [
       "<Figure size 432x288 with 1 Axes>"
      ]
     },
     "metadata": {},
     "output_type": "display_data"
    }
   ],
   "source": [
    "import numpy as np\n",
    "import warnings\n",
    "from math import sqrt\n",
    "import matplotlib.pyplot as plt\n",
    "#from matplotlib import style\n",
    "from collections import Counter\n",
    "#style.use('fivethirtyeight')\n",
    "dataset = {'k':[[1,2], [2,3], [3,1]], 'r':[[6,5], [7,7], [8,6]]}\n",
    "\n",
    "new_features = [4,6] #VARIABLE\n",
    "\n",
    "[[plt.scatter(j[0], j[1], color = i) for j in dataset[i]] for i in dataset]\n",
    "plt.scatter(new_features[0], new_features[1], color = 'blue')\n",
    "plt.show()"
   ]
  },
  {
   "cell_type": "code",
   "execution_count": 30,
   "metadata": {},
   "outputs": [],
   "source": [
    "def knn(data, predictee, k = 3):\n",
    "    if len(data) >= k:\n",
    "        warnings.warn(\"k is set to a value less than total groups\")\n",
    "    \n",
    "    distances = []\n",
    "    for group in data:\n",
    "        for features in data[group]:\n",
    "            #euclidean_distance = sqrt((features[0] - predictee[0])**2 + (features[1] - predictee[1])**2)\n",
    "            distances.append([np.linalg.norm(np.array(features) - np.array(predictee)), group])\n",
    "    \n",
    "    votes = [i[1] for i in sorted(distances)[:k]]\n",
    "    predicted = Counter(votes).most_common(1)[0][0]\n",
    "    confidence = Counter(votes).most_common(1)[0][1]/k\n",
    "    return predicted, confidence"
   ]
  },
  {
   "cell_type": "code",
   "execution_count": 31,
   "metadata": {},
   "outputs": [
    {
     "name": "stdout",
     "output_type": "stream",
     "text": [
      "('r', 0.6666666666666666)\n"
     ]
    }
   ],
   "source": [
    "print(knn(dataset, new_features))"
   ]
  },
  {
   "cell_type": "code",
   "execution_count": null,
   "metadata": {},
   "outputs": [],
   "source": []
  }
 ],
 "metadata": {
  "kernelspec": {
   "display_name": "Python 3",
   "language": "python",
   "name": "python3"
  },
  "language_info": {
   "codemirror_mode": {
    "name": "ipython",
    "version": 3
   },
   "file_extension": ".py",
   "mimetype": "text/x-python",
   "name": "python",
   "nbconvert_exporter": "python",
   "pygments_lexer": "ipython3",
   "version": "3.6.8"
  }
 },
 "nbformat": 4,
 "nbformat_minor": 2
}
